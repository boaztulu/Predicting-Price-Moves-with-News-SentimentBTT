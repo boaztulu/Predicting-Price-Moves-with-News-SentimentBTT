{
 "cells": [
  {
   "cell_type": "code",
   "execution_count": null,
   "id": "7fdb48ef",
   "metadata": {},
   "outputs": [],
   "source": []
  },
  {
   "cell_type": "markdown",
   "id": "9848fadd",
   "metadata": {},
   "source": [
    "## Descriptive Statistics"
   ]
  },
  {
   "cell_type": "code",
   "execution_count": 2,
   "id": "df046e72",
   "metadata": {},
   "outputs": [
    {
     "data": {
      "text/html": [
       "<div>\n",
       "<style scoped>\n",
       "    .dataframe tbody tr th:only-of-type {\n",
       "        vertical-align: middle;\n",
       "    }\n",
       "\n",
       "    .dataframe tbody tr th {\n",
       "        vertical-align: top;\n",
       "    }\n",
       "\n",
       "    .dataframe thead th {\n",
       "        text-align: right;\n",
       "    }\n",
       "</style>\n",
       "<table border=\"1\" class=\"dataframe\">\n",
       "  <thead>\n",
       "    <tr style=\"text-align: right;\">\n",
       "      <th></th>\n",
       "      <th>Unnamed: 0</th>\n",
       "      <th>headline</th>\n",
       "      <th>url</th>\n",
       "      <th>publisher</th>\n",
       "      <th>date</th>\n",
       "      <th>stock</th>\n",
       "    </tr>\n",
       "  </thead>\n",
       "  <tbody>\n",
       "    <tr>\n",
       "      <th>0</th>\n",
       "      <td>0</td>\n",
       "      <td>Stocks That Hit 52-Week Highs On Friday</td>\n",
       "      <td>https://www.benzinga.com/news/20/06/16190091/s...</td>\n",
       "      <td>Benzinga Insights</td>\n",
       "      <td>2020-06-05 10:30:54-04:00</td>\n",
       "      <td>A</td>\n",
       "    </tr>\n",
       "    <tr>\n",
       "      <th>1</th>\n",
       "      <td>1</td>\n",
       "      <td>Stocks That Hit 52-Week Highs On Wednesday</td>\n",
       "      <td>https://www.benzinga.com/news/20/06/16170189/s...</td>\n",
       "      <td>Benzinga Insights</td>\n",
       "      <td>2020-06-03 10:45:20-04:00</td>\n",
       "      <td>A</td>\n",
       "    </tr>\n",
       "    <tr>\n",
       "      <th>2</th>\n",
       "      <td>2</td>\n",
       "      <td>71 Biggest Movers From Friday</td>\n",
       "      <td>https://www.benzinga.com/news/20/05/16103463/7...</td>\n",
       "      <td>Lisa Levin</td>\n",
       "      <td>2020-05-26 04:30:07-04:00</td>\n",
       "      <td>A</td>\n",
       "    </tr>\n",
       "    <tr>\n",
       "      <th>3</th>\n",
       "      <td>3</td>\n",
       "      <td>46 Stocks Moving In Friday's Mid-Day Session</td>\n",
       "      <td>https://www.benzinga.com/news/20/05/16095921/4...</td>\n",
       "      <td>Lisa Levin</td>\n",
       "      <td>2020-05-22 12:45:06-04:00</td>\n",
       "      <td>A</td>\n",
       "    </tr>\n",
       "    <tr>\n",
       "      <th>4</th>\n",
       "      <td>4</td>\n",
       "      <td>B of A Securities Maintains Neutral on Agilent...</td>\n",
       "      <td>https://www.benzinga.com/news/20/05/16095304/b...</td>\n",
       "      <td>Vick Meyer</td>\n",
       "      <td>2020-05-22 11:38:59-04:00</td>\n",
       "      <td>A</td>\n",
       "    </tr>\n",
       "    <tr>\n",
       "      <th>5</th>\n",
       "      <td>5</td>\n",
       "      <td>CFRA Maintains Hold on Agilent Technologies, L...</td>\n",
       "      <td>https://www.benzinga.com/news/20/05/16095163/c...</td>\n",
       "      <td>vishwanath@benzinga.com</td>\n",
       "      <td>2020-05-22 11:23:25-04:00</td>\n",
       "      <td>A</td>\n",
       "    </tr>\n",
       "    <tr>\n",
       "      <th>6</th>\n",
       "      <td>6</td>\n",
       "      <td>UBS Maintains Neutral on Agilent Technologies,...</td>\n",
       "      <td>https://www.benzinga.com/news/20/05/16094027/u...</td>\n",
       "      <td>vishwanath@benzinga.com</td>\n",
       "      <td>2020-05-22 09:36:20-04:00</td>\n",
       "      <td>A</td>\n",
       "    </tr>\n",
       "    <tr>\n",
       "      <th>7</th>\n",
       "      <td>7</td>\n",
       "      <td>Agilent Technologies shares are trading higher...</td>\n",
       "      <td>https://www.benzinga.com/wiim/20/05/16093805/a...</td>\n",
       "      <td>Benzinga Newsdesk</td>\n",
       "      <td>2020-05-22 09:07:04-04:00</td>\n",
       "      <td>A</td>\n",
       "    </tr>\n",
       "    <tr>\n",
       "      <th>8</th>\n",
       "      <td>8</td>\n",
       "      <td>Wells Fargo Maintains Overweight on Agilent Te...</td>\n",
       "      <td>https://www.benzinga.com/news/20/05/16093505/w...</td>\n",
       "      <td>vishwanath@benzinga.com</td>\n",
       "      <td>2020-05-22 08:37:59-04:00</td>\n",
       "      <td>A</td>\n",
       "    </tr>\n",
       "    <tr>\n",
       "      <th>9</th>\n",
       "      <td>9</td>\n",
       "      <td>10 Biggest Price Target Changes For Friday</td>\n",
       "      <td>https://www.benzinga.com/analyst-ratings/price...</td>\n",
       "      <td>Lisa Levin</td>\n",
       "      <td>2020-05-22 08:06:17-04:00</td>\n",
       "      <td>A</td>\n",
       "    </tr>\n",
       "  </tbody>\n",
       "</table>\n",
       "</div>"
      ],
      "text/plain": [
       "   Unnamed: 0                                           headline  \\\n",
       "0           0            Stocks That Hit 52-Week Highs On Friday   \n",
       "1           1         Stocks That Hit 52-Week Highs On Wednesday   \n",
       "2           2                      71 Biggest Movers From Friday   \n",
       "3           3       46 Stocks Moving In Friday's Mid-Day Session   \n",
       "4           4  B of A Securities Maintains Neutral on Agilent...   \n",
       "5           5  CFRA Maintains Hold on Agilent Technologies, L...   \n",
       "6           6  UBS Maintains Neutral on Agilent Technologies,...   \n",
       "7           7  Agilent Technologies shares are trading higher...   \n",
       "8           8  Wells Fargo Maintains Overweight on Agilent Te...   \n",
       "9           9         10 Biggest Price Target Changes For Friday   \n",
       "\n",
       "                                                 url                publisher  \\\n",
       "0  https://www.benzinga.com/news/20/06/16190091/s...        Benzinga Insights   \n",
       "1  https://www.benzinga.com/news/20/06/16170189/s...        Benzinga Insights   \n",
       "2  https://www.benzinga.com/news/20/05/16103463/7...               Lisa Levin   \n",
       "3  https://www.benzinga.com/news/20/05/16095921/4...               Lisa Levin   \n",
       "4  https://www.benzinga.com/news/20/05/16095304/b...               Vick Meyer   \n",
       "5  https://www.benzinga.com/news/20/05/16095163/c...  vishwanath@benzinga.com   \n",
       "6  https://www.benzinga.com/news/20/05/16094027/u...  vishwanath@benzinga.com   \n",
       "7  https://www.benzinga.com/wiim/20/05/16093805/a...        Benzinga Newsdesk   \n",
       "8  https://www.benzinga.com/news/20/05/16093505/w...  vishwanath@benzinga.com   \n",
       "9  https://www.benzinga.com/analyst-ratings/price...               Lisa Levin   \n",
       "\n",
       "                        date stock  \n",
       "0  2020-06-05 10:30:54-04:00     A  \n",
       "1  2020-06-03 10:45:20-04:00     A  \n",
       "2  2020-05-26 04:30:07-04:00     A  \n",
       "3  2020-05-22 12:45:06-04:00     A  \n",
       "4  2020-05-22 11:38:59-04:00     A  \n",
       "5  2020-05-22 11:23:25-04:00     A  \n",
       "6  2020-05-22 09:36:20-04:00     A  \n",
       "7  2020-05-22 09:07:04-04:00     A  \n",
       "8  2020-05-22 08:37:59-04:00     A  \n",
       "9  2020-05-22 08:06:17-04:00     A  "
      ]
     },
     "execution_count": 2,
     "metadata": {},
     "output_type": "execute_result"
    }
   ],
   "source": [
    "import pandas as pd\n",
    "import numpy as np\n",
    "\n",
    "# Read data (make sure the CSV is in the ./data folder)\n",
    "df = pd.read_csv('data/raw_analyst_ratings.csv')\n",
    "\n",
    "# Peek at the data\n",
    "df.head(10)\n"
   ]
  },
  {
   "cell_type": "code",
   "execution_count": null,
   "id": "39bee9c0",
   "metadata": {},
   "outputs": [],
   "source": []
  },
  {
   "cell_type": "code",
   "execution_count": 3,
   "id": "63b4461b",
   "metadata": {},
   "outputs": [
    {
     "name": "stdout",
     "output_type": "stream",
     "text": [
      "count    1.407328e+06\n",
      "mean     7.312051e+01\n",
      "std      4.073531e+01\n",
      "min      3.000000e+00\n",
      "25%      4.700000e+01\n",
      "50%      6.400000e+01\n",
      "75%      8.700000e+01\n",
      "max      5.120000e+02\n",
      "Name: headline_length, dtype: float64\n"
     ]
    }
   ],
   "source": [
    "# Compute the length of each headline (number of characters)\n",
    "df['headline_length'] = df['headline'].apply(lambda x: len(str(x)) if pd.notnull(x) else 0)\n",
    "\n",
    "# Basic descriptive stats\n",
    "desc_length = df['headline_length'].describe()\n",
    "print(desc_length)\n"
   ]
  },
  {
   "cell_type": "code",
   "execution_count": null,
   "id": "2e122a99",
   "metadata": {},
   "outputs": [],
   "source": []
  },
  {
   "cell_type": "code",
   "execution_count": 4,
   "id": "7cfccd39",
   "metadata": {},
   "outputs": [
    {
     "name": "stdout",
     "output_type": "stream",
     "text": [
      "publisher\n",
      "Paul Quintaro        228373\n",
      "Lisa Levin           186979\n",
      "Benzinga Newsdesk    150484\n",
      "Charles Gross         96732\n",
      "Monica Gerson         82380\n",
      "Eddie Staley          57254\n",
      "Hal Lindon            49047\n",
      "ETF Professor         28489\n",
      "Juan Lopez            28438\n",
      "Benzinga Staff        28114\n",
      "Name: count, dtype: int64\n"
     ]
    }
   ],
   "source": [
    "publisher_counts = df['publisher'].value_counts()\n",
    "\n",
    "# Display top 10 most active publishers\n",
    "print(publisher_counts.head(10))\n"
   ]
  },
  {
   "cell_type": "code",
   "execution_count": 5,
   "id": "a741ce39",
   "metadata": {},
   "outputs": [
    {
     "name": "stdout",
     "output_type": "stream",
     "text": [
      "stock\n",
      "MRK     3333\n",
      "MS      3238\n",
      "NVDA    3146\n",
      "MU      3142\n",
      "QQQ     3106\n",
      "NFLX    3028\n",
      "M       3025\n",
      "EBAY    3018\n",
      "GILD    2968\n",
      "VZ      2966\n",
      "Name: count, dtype: int64\n"
     ]
    }
   ],
   "source": [
    "publisher_counts = df['stock'].value_counts()\n",
    "\n",
    "# Display top 10 most active publishers\n",
    "print(publisher_counts.head(10))\n"
   ]
  },
  {
   "cell_type": "code",
   "execution_count": 6,
   "id": "d1d11be7",
   "metadata": {},
   "outputs": [
    {
     "name": "stderr",
     "output_type": "stream",
     "text": [
      "C:\\Users\\btulu\\AppData\\Local\\Temp\\ipykernel_23212\\4053844955.py:2: UserWarning: The argument 'infer_datetime_format' is deprecated and will be removed in a future version. A strict version of it is now the default, see https://pandas.pydata.org/pdeps/0004-consistent-to-datetime-parsing.html. You can safely remove this argument.\n",
      "  df['date'] = pd.to_datetime(df['date'], infer_datetime_format=True, errors='coerce')\n"
     ]
    },
    {
     "name": "stdout",
     "output_type": "stream",
     "text": [
      "<class 'pandas.core.frame.DataFrame'>\n",
      "Index: 55987 entries, 0 to 1407270\n",
      "Data columns (total 7 columns):\n",
      " #   Column           Non-Null Count  Dtype                    \n",
      "---  ------           --------------  -----                    \n",
      " 0   Unnamed: 0       55987 non-null  int64                    \n",
      " 1   headline         55987 non-null  object                   \n",
      " 2   url              55987 non-null  object                   \n",
      " 3   publisher        55987 non-null  object                   \n",
      " 4   date             55987 non-null  datetime64[ns, UTC-04:00]\n",
      " 5   stock            55987 non-null  object                   \n",
      " 6   headline_length  55987 non-null  int64                    \n",
      "dtypes: datetime64[ns, UTC-04:00](1), int64(2), object(4)\n",
      "memory usage: 3.4+ MB\n"
     ]
    }
   ],
   "source": [
    "# Convert the 'date' column to datetime\n",
    "df['date'] = pd.to_datetime(df['date'], infer_datetime_format=True, errors='coerce')\n",
    "\n",
    "# If you want to drop rows that fail to parse:\n",
    "df = df.dropna(subset=['date'])\n",
    "\n",
    "df.info()\n"
   ]
  },
  {
   "cell_type": "code",
   "execution_count": 7,
   "id": "4a2d17e1",
   "metadata": {},
   "outputs": [
    {
     "name": "stdout",
     "output_type": "stream",
     "text": [
      "  publication_date  article_count\n",
      "0       2011-04-27              1\n",
      "1       2011-04-28              2\n",
      "2       2011-04-29              2\n",
      "3       2011-04-30              1\n",
      "4       2011-05-01              1\n",
      "5       2011-05-02              9\n",
      "6       2011-05-03              3\n",
      "7       2011-05-05              3\n",
      "8       2011-05-06              3\n",
      "9       2011-05-07              2\n"
     ]
    }
   ],
   "source": [
    "# Count how many articles published on each unique date (year-month-day)\n",
    "# This extracts the \"date only\" portion (YYYY-MM-DD)\n",
    "df['publication_date'] = df['date'].dt.date\n",
    "\n",
    "date_counts = df.groupby('publication_date').size().reset_index(name='article_count')\n",
    "print(date_counts.head(10))\n"
   ]
  },
  {
   "cell_type": "code",
   "execution_count": 8,
   "id": "a0d9f1e4",
   "metadata": {},
   "outputs": [
    {
     "data": {
      "image/png": "[encoded data removed]",
      "text/plain": [
       "<Figure size 1000x500 with 1 Axes>"
      ]
     },
     "metadata": {},
     "output_type": "display_data"
    }
   ],
   "source": [
    "import matplotlib.pyplot as plt\n",
    "\n",
    "plt.figure(figsize=(10,5))\n",
    "plt.plot(date_counts['publication_date'], date_counts['article_count'], marker='o')\n",
    "plt.xticks(rotation=45)\n",
    "plt.title('Article Count Over Time')\n",
    "plt.xlabel('Date')\n",
    "plt.ylabel('Number of Articles')\n",
    "plt.tight_layout()\n",
    "plt.show()\n"
   ]
  },
  {
   "cell_type": "code",
   "execution_count": 9,
   "id": "84be1e9c",
   "metadata": {},
   "outputs": [
    {
     "name": "stdout",
     "output_type": "stream",
     "text": [
      "day_of_week\n",
      "Thursday     12688\n",
      "Wednesday    11891\n",
      "Tuesday      11002\n",
      "Monday       10322\n",
      "Friday        9381\n",
      "Sunday         436\n",
      "Saturday       267\n",
      "Name: count, dtype: int64\n"
     ]
    }
   ],
   "source": [
    "# Extract the day name (Monday, Tuesday, etc.)\n",
    "df['day_of_week'] = df['date'].dt.day_name()\n",
    "\n",
    "day_counts = df['day_of_week'].value_counts()\n",
    "print(day_counts)\n"
   ]
  },
  {
   "cell_type": "code",
   "execution_count": null,
   "id": "63413ece",
   "metadata": {},
   "outputs": [],
   "source": []
  },
  {
   "cell_type": "code",
   "execution_count": null,
   "id": "badca7f8",
   "metadata": {},
   "outputs": [],
   "source": []
  },
  {
   "cell_type": "code",
   "execution_count": null,
   "id": "e87d345f",
   "metadata": {},
   "outputs": [],
   "source": []
  },
  {
   "cell_type": "markdown",
   "id": "5922e821",
   "metadata": {},
   "source": [
    "## Text Analysis(Topic Modeling):"
   ]
  },
  {
   "cell_type": "code",
   "execution_count": 10,
   "id": "2b3d7529",
   "metadata": {},
   "outputs": [
    {
     "name": "stdout",
     "output_type": "stream",
     "text": [
      "Defaulting to user installation because normal site-packages is not writeable\n",
      "Collecting spacy\n",
      "  Obtaining dependency information for spacy from https://files.pythonhosted.org/packages/53/9a/3f6458c64fe5b4b9e094f260b937fb413d176c8579e4dd8a31f01cbbd053/spacy-3.8.7-cp39-cp39-win_amd64.whl.metadata\n",
      "  Downloading spacy-3.8.7-cp39-cp39-win_amd64.whl.metadata (28 kB)\n",
      "Collecting nltk\n",
      "  Obtaining dependency information for nltk from https://files.pythonhosted.org/packages/4d/66/7d9e26593edda06e8cb531874633f7c2372279c3b0f46235539fe546df8b/nltk-3.9.1-py3-none-any.whl.metadata\n",
      "  Downloading nltk-3.9.1-py3-none-any.whl.metadata (2.9 kB)\n",
      "Collecting gensim\n",
      "  Obtaining dependency information for gensim from https://files.pythonhosted.org/packages/52/97/d468772428e00d44429a6970b6e254c4e224e23ce5ad4c063b6a9867dd86/gensim-4.3.3-cp39-cp39-win_amd64.whl.metadata\n",
      "  Downloading gensim-4.3.3-cp39-cp39-win_amd64.whl.metadata (8.2 kB)\n",
      "Requirement already satisfied: scikit-learn in c:\\users\\btulu\\appdata\\roaming\\python\\python39\\site-packages (1.5.1)\n",
      "Collecting spacy-legacy<3.1.0,>=3.0.11 (from spacy)\n",
      "  Obtaining dependency information for spacy-legacy<3.1.0,>=3.0.11 from https://files.pythonhosted.org/packages/c3/55/12e842c70ff8828e34e543a2c7176dac4da006ca6901c9e8b43efab8bc6b/spacy_legacy-3.0.12-py2.py3-none-any.whl.metadata\n",
      "  Downloading spacy_legacy-3.0.12-py2.py3-none-any.whl.metadata (2.8 kB)\n",
      "Collecting spacy-loggers<2.0.0,>=1.0.0 (from spacy)\n",
      "  Obtaining dependency information for spacy-loggers<2.0.0,>=1.0.0 from https://files.pythonhosted.org/packages/33/78/d1a1a026ef3af911159398c939b1509d5c36fe524c7b644f34a5146c4e16/spacy_loggers-1.0.5-py3-none-any.whl.metadata\n",
      "  Downloading spacy_loggers-1.0.5-py3-none-any.whl.metadata (23 kB)\n",
      "Collecting murmurhash<1.1.0,>=0.28.0 (from spacy)\n",
      "  Obtaining dependency information for murmurhash<1.1.0,>=0.28.0 from https://files.pythonhosted.org/packages/37/44/4562737083435fd0d52d8f9cc384d910f3bdc6a5ab26c985d780962012ab/murmurhash-1.0.13-cp39-cp39-win_amd64.whl.metadata\n",
      "  Downloading murmurhash-1.0.13-cp39-cp39-win_amd64.whl.metadata (2.2 kB)\n",
      "Collecting cymem<2.1.0,>=2.0.2 (from spacy)\n",
      "  Obtaining dependency information for cymem<2.1.0,>=2.0.2 from https://files.pythonhosted.org/packages/11/f6/16044e000072ae452e006930ca8eb7d21bad1b45d1a5978f82944482a9c8/cymem-2.0.11-cp39-cp39-win_amd64.whl.metadata\n",
      "  Downloading cymem-2.0.11-cp39-cp39-win_amd64.whl.metadata (8.8 kB)\n",
      "Collecting preshed<3.1.0,>=3.0.2 (from spacy)\n",
      "  Obtaining dependency information for preshed<3.1.0,>=3.0.2 from https://files.pythonhosted.org/packages/92/93/3b44ad7c74d2a4f7d33b949467c726693e4b00cbb47923364dbd6c4af809/preshed-3.0.10-cp39-cp39-win_amd64.whl.metadata\n",
      "  Downloading preshed-3.0.10-cp39-cp39-win_amd64.whl.metadata (2.5 kB)\n",
      "Collecting thinc<8.4.0,>=8.3.4 (from spacy)\n",
      "  Obtaining dependency information for thinc<8.4.0,>=8.3.4 from https://files.pythonhosted.org/packages/a3/c3/13bd971d700918f3624a78e22e72e0308b1f635e0fcb5280f7515818920d/thinc-8.3.6-cp39-cp39-win_amd64.whl.metadata\n",
      "  Downloading thinc-8.3.6-cp39-cp39-win_amd64.whl.metadata (15 kB)\n",
      "Collecting wasabi<1.2.0,>=0.9.1 (from spacy)\n",
      "  Obtaining dependency information for wasabi<1.2.0,>=0.9.1 from https://files.pythonhosted.org/packages/06/7c/34330a89da55610daa5f245ddce5aab81244321101614751e7537f125133/wasabi-1.1.3-py3-none-any.whl.metadata\n",
      "  Downloading wasabi-1.1.3-py3-none-any.whl.metadata (28 kB)\n",
      "Collecting srsly<3.0.0,>=2.4.3 (from spacy)\n",
      "  Obtaining dependency information for srsly<3.0.0,>=2.4.3 from https://files.pythonhosted.org/packages/db/0c/2b51673cc4b3047852ab336f31433ccf2e169354ebb5ed065e495e748302/srsly-2.5.1-cp39-cp39-win_amd64.whl.metadata\n",
      "  Downloading srsly-2.5.1-cp39-cp39-win_amd64.whl.metadata (20 kB)\n",
      "Collecting catalogue<2.1.0,>=2.0.6 (from spacy)\n",
      "  Obtaining dependency information for catalogue<2.1.0,>=2.0.6 from https://files.pythonhosted.org/packages/9e/96/d32b941a501ab566a16358d68b6eb4e4acc373fab3c3c4d7d9e649f7b4bb/catalogue-2.0.10-py3-none-any.whl.metadata\n",
      "  Downloading catalogue-2.0.10-py3-none-any.whl.metadata (14 kB)\n",
      "Collecting weasel<0.5.0,>=0.1.0 (from spacy)\n",
      "  Obtaining dependency information for weasel<0.5.0,>=0.1.0 from https://files.pythonhosted.org/packages/2a/87/abd57374044e1f627f0a905ac33c1a7daab35a3a815abfea4e1bafd3fdb1/weasel-0.4.1-py3-none-any.whl.metadata\n",
      "  Downloading weasel-0.4.1-py3-none-any.whl.metadata (4.6 kB)\n",
      "Collecting typer<1.0.0,>=0.3.0 (from spacy)\n",
      "  Obtaining dependency information for typer<1.0.0,>=0.3.0 from https://files.pythonhosted.org/packages/76/42/3efaf858001d2c2913de7f354563e3a3a2f0decae3efe98427125a8f441e/typer-0.16.0-py3-none-any.whl.metadata\n",
      "  Downloading typer-0.16.0-py3-none-any.whl.metadata (15 kB)\n",
      "Requirement already satisfied: tqdm<5.0.0,>=4.38.0 in c:\\program files\\arcgis\\pro\\bin\\python\\envs\\arcgispro-py3\\lib\\site-packages (from spacy) (4.64.1)\n",
      "Requirement already satisfied: numpy>=1.19.0 in c:\\users\\btulu\\appdata\\roaming\\python\\python39\\site-packages (from spacy) (1.26.4)\n",
      "Requirement already satisfied: requests<3.0.0,>=2.13.0 in c:\\program files\\arcgis\\pro\\bin\\python\\envs\\arcgispro-py3\\lib\\site-packages (from spacy) (2.31.0)\n",
      "Requirement already satisfied: pydantic!=1.8,!=1.8.1,<3.0.0,>=1.7.4 in c:\\users\\btulu\\appdata\\roaming\\python\\python39\\site-packages (from spacy) (2.9.2)\n",
      "Requirement already satisfied: jinja2 in c:\\users\\btulu\\appdata\\roaming\\python\\python39\\site-packages (from spacy) (3.1.6)\n",
      "Requirement already satisfied: setuptools in c:\\program files\\arcgis\\pro\\bin\\python\\envs\\arcgispro-py3\\lib\\site-packages (from spacy) (67.7.2)\n",
      "Requirement already satisfied: packaging>=20.0 in c:\\program files\\arcgis\\pro\\bin\\python\\envs\\arcgispro-py3\\lib\\site-packages (from spacy) (21.3)\n",
      "Collecting langcodes<4.0.0,>=3.2.0 (from spacy)\n",
      "  Obtaining dependency information for langcodes<4.0.0,>=3.2.0 from https://files.pythonhosted.org/packages/c3/6b/068c2ea7a712bf805c62445bd9e9c06d7340358ef2824150eceac027444b/langcodes-3.5.0-py3-none-any.whl.metadata\n",
      "  Downloading langcodes-3.5.0-py3-none-any.whl.metadata (29 kB)\n",
      "Requirement already satisfied: click in c:\\users\\btulu\\appdata\\roaming\\python\\python39\\site-packages (from nltk) (8.1.8)\n",
      "Requirement already satisfied: joblib in c:\\users\\btulu\\appdata\\roaming\\python\\python39\\site-packages (from nltk) (1.4.2)\n",
      "Requirement already satisfied: regex>=2021.8.3 in c:\\program files\\arcgis\\pro\\bin\\python\\envs\\arcgispro-py3\\lib\\site-packages (from nltk) (2022.7.9)\n",
      "Requirement already satisfied: scipy<1.14.0,>=1.7.0 in c:\\users\\btulu\\appdata\\roaming\\python\\python39\\site-packages (from gensim) (1.13.1)\n",
      "Collecting smart-open>=1.8.1 (from gensim)\n",
      "  Obtaining dependency information for smart-open>=1.8.1 from https://files.pythonhosted.org/packages/7a/18/9a8d9f01957aa1f8bbc5676d54c2e33102d247e146c1a3679d3bd5cc2e3a/smart_open-7.1.0-py3-none-any.whl.metadata\n",
      "  Downloading smart_open-7.1.0-py3-none-any.whl.metadata (24 kB)\n",
      "Requirement already satisfied: threadpoolctl>=3.1.0 in c:\\users\\btulu\\appdata\\roaming\\python\\python39\\site-packages (from scikit-learn) (3.5.0)\n",
      "Collecting language-data>=1.2 (from langcodes<4.0.0,>=3.2.0->spacy)\n",
      "  Obtaining dependency information for language-data>=1.2 from https://files.pythonhosted.org/packages/5d/e9/5a5ffd9b286db82be70d677d0a91e4d58f7912bb8dd026ddeeb4abe70679/language_data-1.3.0-py3-none-any.whl.metadata\n",
      "  Downloading language_data-1.3.0-py3-none-any.whl.metadata (4.3 kB)\n",
      "Requirement already satisfied: pyparsing!=3.0.5,>=2.0.2 in c:\\program files\\arcgis\\pro\\bin\\python\\envs\\arcgispro-py3\\lib\\site-packages (from packaging>=20.0->spacy) (3.0.9)\n",
      "Requirement already satisfied: annotated-types>=0.6.0 in c:\\users\\btulu\\appdata\\roaming\\python\\python39\\site-packages (from pydantic!=1.8,!=1.8.1,<3.0.0,>=1.7.4->spacy) (0.7.0)\n",
      "Requirement already satisfied: pydantic-core==2.23.4 in c:\\users\\btulu\\appdata\\roaming\\python\\python39\\site-packages (from pydantic!=1.8,!=1.8.1,<3.0.0,>=1.7.4->spacy) (2.23.4)\n",
      "Requirement already satisfied: typing-extensions>=4.6.1 in c:\\users\\btulu\\appdata\\roaming\\python\\python39\\site-packages (from pydantic!=1.8,!=1.8.1,<3.0.0,>=1.7.4->spacy) (4.12.2)\n",
      "Requirement already satisfied: charset-normalizer<4,>=2 in c:\\program files\\arcgis\\pro\\bin\\python\\envs\\arcgispro-py3\\lib\\site-packages (from requests<3.0.0,>=2.13.0->spacy) (2.0.4)\n",
      "Requirement already satisfied: idna<4,>=2.5 in c:\\program files\\arcgis\\pro\\bin\\python\\envs\\arcgispro-py3\\lib\\site-packages (from requests<3.0.0,>=2.13.0->spacy) (3.4)\n",
      "Requirement already satisfied: urllib3<3,>=1.21.1 in c:\\program files\\arcgis\\pro\\bin\\python\\envs\\arcgispro-py3\\lib\\site-packages (from requests<3.0.0,>=2.13.0->spacy) (1.26.16)\n",
      "Requirement already satisfied: certifi>=2017.4.17 in c:\\program files\\arcgis\\pro\\bin\\python\\envs\\arcgispro-py3\\lib\\site-packages (from requests<3.0.0,>=2.13.0->spacy) (2023.7.22)\n",
      "Requirement already satisfied: wrapt in c:\\program files\\arcgis\\pro\\bin\\python\\envs\\arcgispro-py3\\lib\\site-packages (from smart-open>=1.8.1->gensim) (1.14.1)\n",
      "Collecting blis<1.4.0,>=1.3.0 (from thinc<8.4.0,>=8.3.4->spacy)\n",
      "  Downloading blis-1.3.0.tar.gz (2.5 MB)\n",
      "     ---------------------------------------- 2.5/2.5 MB 32.1 MB/s eta 0:00:00\n",
      "  Installing build dependencies: started\n",
      "  Installing build dependencies: finished with status 'done'\n",
      "  Getting requirements to build wheel: started\n",
      "  Getting requirements to build wheel: finished with status 'done'\n",
      "  Installing backend dependencies: started\n",
      "  Installing backend dependencies: finished with status 'done'\n",
      "  Preparing metadata (pyproject.toml): started\n",
      "  Preparing metadata (pyproject.toml): finished with status 'done'\n",
      "Collecting confection<1.0.0,>=0.0.1 (from thinc<8.4.0,>=8.3.4->spacy)\n",
      "  Obtaining dependency information for confection<1.0.0,>=0.0.1 from https://files.pythonhosted.org/packages/0c/00/3106b1854b45bd0474ced037dfe6b73b90fe68a68968cef47c23de3d43d2/confection-0.1.5-py3-none-any.whl.metadata\n",
      "  Downloading confection-0.1.5-py3-none-any.whl.metadata (19 kB)\n",
      "INFO: pip is looking at multiple versions of thinc to determine which version is compatible with other requirements. This could take a while.\n",
      "Collecting thinc<8.4.0,>=8.3.4 (from spacy)\n",
      "  Obtaining dependency information for thinc<8.4.0,>=8.3.4 from https://files.pythonhosted.org/packages/ea/f5/9bb31d5994bc409baffd57248d870c9fd3a697e260933ad12e358846032b/thinc-8.3.4-cp39-cp39-win_amd64.whl.metadata\n",
      "  Downloading thinc-8.3.4-cp39-cp39-win_amd64.whl.metadata (15 kB)\n",
      "Collecting blis<1.3.0,>=1.2.0 (from thinc<8.4.0,>=8.3.4->spacy)\n",
      "  Downloading blis-1.2.1.tar.gz (2.5 MB)\n",
      "     ---------------------------------------- 2.5/2.5 MB 39.7 MB/s eta 0:00:00\n",
      "  Installing build dependencies: started\n",
      "  Installing build dependencies: finished with status 'done'\n",
      "  Getting requirements to build wheel: started\n",
      "  Getting requirements to build wheel: finished with status 'done'\n",
      "  Installing backend dependencies: started\n",
      "  Installing backend dependencies: finished with status 'done'\n",
      "  Preparing metadata (pyproject.toml): started\n",
      "  Preparing metadata (pyproject.toml): finished with status 'done'\n",
      "Requirement already satisfied: colorama in c:\\program files\\arcgis\\pro\\bin\\python\\envs\\arcgispro-py3\\lib\\site-packages (from tqdm<5.0.0,>=4.38.0->spacy) (0.4.6)\n",
      "Collecting shellingham>=1.3.0 (from typer<1.0.0,>=0.3.0->spacy)\n",
      "  Obtaining dependency information for shellingham>=1.3.0 from https://files.pythonhosted.org/packages/e0/f9/0595336914c5619e5f28a1fb793285925a8cd4b432c9da0a987836c7f822/shellingham-1.5.4-py2.py3-none-any.whl.metadata\n",
      "  Downloading shellingham-1.5.4-py2.py3-none-any.whl.metadata (3.5 kB)\n",
      "Requirement already satisfied: rich>=10.11.0 in c:\\users\\btulu\\appdata\\roaming\\python\\python39\\site-packages (from typer<1.0.0,>=0.3.0->spacy) (13.7.1)\n",
      "Collecting cloudpathlib<1.0.0,>=0.7.0 (from weasel<0.5.0,>=0.1.0->spacy)\n",
      "  Obtaining dependency information for cloudpathlib<1.0.0,>=0.7.0 from https://files.pythonhosted.org/packages/40/e7/6fea57b887f8e367c1e4a496ba03bfaf57824b766f777723ce1faf28834b/cloudpathlib-0.21.1-py3-none-any.whl.metadata\n",
      "  Downloading cloudpathlib-0.21.1-py3-none-any.whl.metadata (14 kB)\n",
      "Requirement already satisfied: MarkupSafe>=2.0 in c:\\program files\\arcgis\\pro\\bin\\python\\envs\\arcgispro-py3\\lib\\site-packages (from jinja2->spacy) (2.1.1)\n",
      "Collecting marisa-trie>=1.1.0 (from language-data>=1.2->langcodes<4.0.0,>=3.2.0->spacy)\n",
      "  Obtaining dependency information for marisa-trie>=1.1.0 from https://files.pythonhosted.org/packages/fb/3d/4eaad05fcbfd6a3357e2e2504becaa9c1720beeb75dc86753a301098efd9/marisa_trie-1.2.1-cp39-cp39-win_amd64.whl.metadata\n",
      "  Downloading marisa_trie-1.2.1-cp39-cp39-win_amd64.whl.metadata (9.3 kB)\n",
      "Requirement already satisfied: markdown-it-py>=2.2.0 in c:\\users\\btulu\\appdata\\roaming\\python\\python39\\site-packages (from rich>=10.11.0->typer<1.0.0,>=0.3.0->spacy) (3.0.0)\n",
      "Requirement already satisfied: pygments<3.0.0,>=2.13.0 in c:\\program files\\arcgis\\pro\\bin\\python\\envs\\arcgispro-py3\\lib\\site-packages (from rich>=10.11.0->typer<1.0.0,>=0.3.0->spacy) (2.14.0)\n",
      "Requirement already satisfied: mdurl~=0.1 in c:\\users\\btulu\\appdata\\roaming\\python\\python39\\site-packages (from markdown-it-py>=2.2.0->rich>=10.11.0->typer<1.0.0,>=0.3.0->spacy) (0.1.2)\n",
      "Downloading spacy-3.8.7-cp39-cp39-win_amd64.whl (14.9 MB)\n",
      "   ---------------------------------------- 14.9/14.9 MB 46.9 MB/s eta 0:00:00\n",
      "Downloading nltk-3.9.1-py3-none-any.whl (1.5 MB)\n",
      "   ---------------------------------------- 1.5/1.5 MB 48.2 MB/s eta 0:00:00\n",
      "Downloading gensim-4.3.3-cp39-cp39-win_amd64.whl (24.0 MB)\n",
      "   ---------------------------------------- 24.0/24.0 MB 25.2 MB/s eta 0:00:00\n",
      "Downloading catalogue-2.0.10-py3-none-any.whl (17 kB)\n",
      "Downloading cymem-2.0.11-cp39-cp39-win_amd64.whl (39 kB)\n",
      "Downloading langcodes-3.5.0-py3-none-any.whl (182 kB)\n",
      "   --------------------------------------- 183.0/183.0 kB 10.8 MB/s eta 0:00:00\n",
      "Downloading murmurhash-1.0.13-cp39-cp39-win_amd64.whl (24 kB)\n",
      "Downloading preshed-3.0.10-cp39-cp39-win_amd64.whl (118 kB)\n",
      "   ---------------------------------------- 118.7/118.7 kB 7.2 MB/s eta 0:00:00\n",
      "Downloading smart_open-7.1.0-py3-none-any.whl (61 kB)\n",
      "   ---------------------------------------- 61.7/61.7 kB 3.2 MB/s eta 0:00:00\n",
      "Downloading spacy_legacy-3.0.12-py2.py3-none-any.whl (29 kB)\n",
      "Downloading spacy_loggers-1.0.5-py3-none-any.whl (22 kB)\n",
      "Downloading srsly-2.5.1-cp39-cp39-win_amd64.whl (633 kB)\n",
      "   --------------------------------------- 633.4/633.4 kB 20.1 MB/s eta 0:00:00\n",
      "Downloading thinc-8.3.4-cp39-cp39-win_amd64.whl (1.5 MB)\n",
      "   ---------------------------------------- 1.5/1.5 MB 24.1 MB/s eta 0:00:00\n",
      "Downloading typer-0.16.0-py3-none-any.whl (46 kB)\n",
      "   ---------------------------------------- 46.3/46.3 kB 2.3 MB/s eta 0:00:00\n",
      "Downloading wasabi-1.1.3-py3-none-any.whl (27 kB)\n",
      "Downloading weasel-0.4.1-py3-none-any.whl (50 kB)\n",
      "   ---------------------------------------- 50.3/50.3 kB ? eta 0:00:00\n",
      "Downloading cloudpathlib-0.21.1-py3-none-any.whl (52 kB)\n",
      "   ---------------------------------------- 52.8/52.8 kB ? eta 0:00:00\n",
      "Downloading confection-0.1.5-py3-none-any.whl (35 kB)\n",
      "Downloading language_data-1.3.0-py3-none-any.whl (5.4 MB)\n",
      "   ---------------------------------------- 5.4/5.4 MB 28.7 MB/s eta 0:00:00\n",
      "Downloading shellingham-1.5.4-py2.py3-none-any.whl (9.8 kB)\n",
      "Downloading marisa_trie-1.2.1-cp39-cp39-win_amd64.whl (152 kB)\n",
      "   ---------------------------------------- 152.1/152.1 kB 8.9 MB/s eta 0:00:00\n",
      "Building wheels for collected packages: blis\n",
      "  Building wheel for blis (pyproject.toml): started\n",
      "  Building wheel for blis (pyproject.toml): finished with status 'error'\n",
      "Failed to build blis\n"
     ]
    },
    {
     "name": "stderr",
     "output_type": "stream",
     "text": [
      "  error: subprocess-exited-with-error\n",
      "  \n",
      "  Building wheel for blis (pyproject.toml) did not run successfully.\n",
      "  exit code: 1\n",
      "  \n",
      "  [25 lines of output]\n",
      "  BLIS_COMPILER? None\n",
      "  running bdist_wheel\n",
      "  running build\n",
      "  running build_py\n",
      "  creating build\n",
      "  creating build\\lib.win-amd64-cpython-39\n",
      "  creating build\\lib.win-amd64-cpython-39\\blis\n",
      "  copying blis\\about.py -> build\\lib.win-amd64-cpython-39\\blis\n",
      "  copying blis\\benchmark.py -> build\\lib.win-amd64-cpython-39\\blis\n",
      "  copying blis\\__init__.py -> build\\lib.win-amd64-cpython-39\\blis\n",
      "  creating build\\lib.win-amd64-cpython-39\\blis\\tests\n",
      "  copying blis\\tests\\common.py -> build\\lib.win-amd64-cpython-39\\blis\\tests\n",
      "  copying blis\\tests\\test_dotv.py -> build\\lib.win-amd64-cpython-39\\blis\\tests\n",
      "  copying blis\\tests\\test_gemm.py -> build\\lib.win-amd64-cpython-39\\blis\\tests\n",
      "  copying blis\\tests\\__init__.py -> build\\lib.win-amd64-cpython-39\\blis\\tests\n",
      "  copying blis\\cy.pyx -> build\\lib.win-amd64-cpython-39\\blis\n",
      "  copying blis\\py.pyx -> build\\lib.win-amd64-cpython-39\\blis\n",
      "  copying blis\\cy.pxd -> build\\lib.win-amd64-cpython-39\\blis\n",
      "  copying blis\\__init__.pxd -> build\\lib.win-amd64-cpython-39\\blis\n",
      "  running build_ext\n",
      "  Build options win32 msvc\n",
      "  BUILD ARCH: x86_64\n",
      "  {'ACLOCAL_PATH': 'C:\\\\Program Files\\\\Git\\\\mingw64\\\\share\\\\aclocal;C:\\\\Program Files\\\\Git\\\\usr\\\\share\\\\aclocal', 'ACTIONS_RUNNER_ACTION_ARCHIVE_CACHE': 'C:\\\\actionarchivecache\\\\', 'AGENT_BUILDDIRECTORY': 'D:\\\\a\\\\1', 'AGENT_CLOUDID': 'cc0b709a-2cb2-4727-8ec5-adb402963aba', 'AGENT_DISABLELOGPLUGIN_TESTFILEPUBLISHERPLUGIN': 'true', 'AGENT_DISABLELOGPLUGIN_TESTRESULTLOGPLUGIN': 'false', 'AGENT_ENABLE_PIPELINEARTIFACT_LARGE_CHUNK_SIZE': 'true', 'AGENT_HOMEDIRECTORY': 'C:\\\\agents\\\\3.248.0', 'AGENT_ID': '93', 'AGENT_ISSELFHOSTED': '0', 'AGENT_JOBNAME': 'JSONL Python39Windows', 'AGENT_JOBSTATUS': 'Succeeded', 'AGENT_LOGTOBLOBSTORAGESERVICE': 'true', 'AGENT_MACHINENAME': 'fv-az618-395', 'AGENT_NAME': 'Azure Pipelines 2', 'AGENT_OS': 'Windows_NT', 'AGENT_OSARCHITECTURE': 'X64', 'AGENT_READONLYVARIABLES': 'true', 'AGENT_RETAINDEFAULTENCODING': 'false', 'AGENT_ROOTDIRECTORY': 'D:\\\\a', 'AGENT_SERVEROMDIRECTORY': 'C:\\\\agents\\\\3.248.0\\\\externals\\\\vstsom', 'AGENT_TASKRESTRICTIONSENFORCEMENTMODE': 'Enabled', 'AGENT_TEMPDIRECTORY': 'D:\\\\a\\\\_temp', 'AGENT_TOOLSDIRECTORY': 'C:\\\\hostedtoolcache\\\\windows', 'AGENT_USEWORKSPACEID': 'true', 'AGENT_USE_FETCH_FILTER_IN_CHECKOUT_TASK': 'true', 'AGENT_VERSION': '4.248.0', 'AGENT_WORKFOLDER': 'D:\\\\a', 'ALLUSERSPROFILE': 'C:\\\\ProgramData', 'ANDROID_HOME': 'C:\\\\Android\\\\android-sdk', 'ANDROID_NDK': 'C:\\\\Android\\\\android-sdk\\\\ndk\\\\27.2.12479018', 'ANDROID_NDK_HOME': 'C:\\\\Android\\\\android-sdk\\\\ndk\\\\27.2.12479018', 'ANDROID_NDK_LATEST_HOME': 'C:\\\\Android\\\\android-sdk\\\\ndk\\\\27.2.12479018', 'ANDROID_NDK_ROOT': 'C:\\\\Android\\\\android-sdk\\\\ndk\\\\27.2.12479018', 'ANDROID_SDK_ROOT': 'C:\\\\Android\\\\android-sdk', 'ANT_HOME': 'C:\\\\ProgramData\\\\chocolatey\\\\lib\\\\ant\\\\tools\\\\apache-ant-1.10.14', 'APPDATA': 'C:\\\\Users\\\\VssAdministrator\\\\AppData\\\\Roaming', 'AZP_75787_ENABLE_COLLECT': 'true', 'AZP_75787_ENABLE_NEW_LOGIC': 'false', 'AZP_75787_ENABLE_NEW_LOGIC_LOG': 'false', 'AZP_75787_ENABLE_NEW_PH_LOGIC': 'true', 'AZP_AGENT_CHECK_FOR_TASK_DEPRECATION': 'true', 'AZP_AGENT_IGNORE_VSTSTASKLIB': 'true', 'AZP_AGENT_LOG_TASKNAME_IN_USERAGENT': 'true', 'AZP_AGENT_MOUNT_WORKSPACE': 'true', 'AZP_ENABLE_RESOURCE_MONITOR_DEBUG_OUTPUT': 'true', 'AZP_ENABLE_RESOURCE_UTILIZATION_WARNINGS': 'true', 'AZP_PS_ENABLE_INVOKE_PROCESS': 'true', 'AZURE_CONFIG_DIR': 'C:\\\\azureCli', 'AZURE_DEVOPS_CACHE_DIR': 'C:\\\\azureDevOpsCli\\\\cache', 'AZURE_EXTENSION_DIR': 'C:\\\\Program Files\\\\Common Files\\\\AzureCliExtensionDirectory', 'AZURE_HTTP_USER_AGENT': 'VSTS_116cc368-5c0c-4eb4-bb44-7f3fa5bdce14_build_6_0', 'AZ_DEVOPS_GLOBAL_CONFIG_DIR': 'C:\\\\azureDevOpsCli', 'BUILD_ARTIFACTSTAGINGDIRECTORY': 'D:\\\\a\\\\1\\\\a', 'BUILD_BINARIESDIRECTORY': 'D:\\\\a\\\\1\\\\b', 'BUILD_BUILDID': '27184', 'BUILD_BUILDNUMBER': '20250110.10', 'BUILD_BUILDURI': 'vstfs:///Build/Build/27184', 'BUILD_CONTAINERID': '29126447', 'BUILD_DEFINITIONFOLDERPATH': '\\\\', 'BUILD_DEFINITIONNAME': 'explosion.cython-blis', 'BUILD_DEFINITIONVERSION': '1', 'BUILD_QUEUEDBY': 'Microsoft.VisualStudio.Services.TFS', 'BUILD_QUEUEDBYID': '00000002-0000-8888-8000-000000000000', 'BUILD_REASON': 'BatchedCI', 'BUILD_REPOSITORY_CLEAN': 'False', 'BUILD_REPOSITORY_GIT_SUBMODULECHECKOUT': 'False', 'BUILD_REPOSITORY_ID': 'explosion/cython-blis', 'BUILD_REPOSITORY_LOCALPATH': 'D:\\\\a\\\\1\\\\s', 'BUILD_REPOSITORY_NAME': 'explosion/cython-blis', 'BUILD_REPOSITORY_PROVIDER': 'GitHub', 'BUILD_REPOSITORY_URI': 'https://github.com/explosion/cython-blis', 'BUILD_REQUESTEDFOR': 'Microsoft.VisualStudio.Services.TFS', 'BUILD_REQUESTEDFOREMAIL': '', 'BUILD_REQUESTEDFORID': '00000002-0000-8888-8000-000000000000', 'BUILD_SOURCEBRANCH': 'refs/heads/v0.8.x', 'BUILD_SOURCEBRANCHNAME': 'v0.8.x', 'BUILD_SOURCESDIRECTORY': 'D:\\\\a\\\\1\\\\s', 'BUILD_SOURCEVERSION': '2cb93566856d208bc951d5847171583d6379406a', 'BUILD_SOURCEVERSIONAUTHOR': 'honnibal', 'BUILD_SOURCEVERSIONMESSAGE': 'Edit ap', 'BUILD_STAGINGDIRECTORY': 'D:\\\\a\\\\1\\\\a', 'CABAL_DIR': 'C:\\\\cabal', 'COBERTURA_HOME': 'C:\\\\cobertura-2.1.1', 'COMMONPROGRAMFILES': 'C:\\\\Program Files\\\\Common Files', 'COMMON_TESTRESULTSDIRECTORY': 'D:\\\\a\\\\1\\\\TestResults', 'COMPUTERNAME': 'fv-az618-395', 'COMSPEC': 'C:\\\\Windows\\\\system32\\\\cmd.exe', 'CONDA': 'C:\\\\Miniconda', 'CONFIG_SITE': 'C:/Program Files/Git/etc/config.site', 'COPYFILESOVERSSHV0_USE_QUEUE': 'true', 'CHOCOLATEYINSTALL': 'C:\\\\ProgramData\\\\chocolatey', 'CHROMEWEBDRIVER': 'C:\\\\SeleniumWebDrivers\\\\ChromeDriver', 'COMMONPROGRAMFILES(X86)': 'C:\\\\Program Files (x86)\\\\Common Files', 'COMMONPROGRAMW6432': 'C:\\\\Program Files\\\\Common Files', 'DISPLAY': 'needs-to-be-defined', 'DISTRIBUTEDTASK_AGENT_ADDFORCECREDENTIALSTOGITCHECKOUT': 'True', 'DISTRIBUTEDTASK_AGENT_AGENTENABLEPIPELINEARTIFACTLARGECHUNKSIZE': 'True', 'DISTRIBUTEDTASK_AGENT_CHECKIFTASKNODERUNNERISDEPRECATED246': 'True', 'DISTRIBUTEDTASK_AGENT_CONTINUEAFTERCANCELPROCESSTREEKILLATTEMPT': 'True', 'DISTRIBUTEDTASK_AGENT_DOCKERACTIONRETRIES': 'True', 'DISTRIBUTEDTASK_AGENT_ENABLEADDITIONALMASKINGREGEXES': 'True', 'DISTRIBUTEDTASK_AGENT_ENABLEISSUESOURCEVALIDATION': 'True', 'DISTRIBUTEDTASK_AGENT_ENABLERESOURCEMONITORDEBUGOUTPUT': 'True', 'DISTRIBUTEDTASK_AGENT_ENABLERESOURCEUTILIZATIONWARNINGS': 'True', 'DISTRIBUTEDTASK_AGENT_FAILDEPRECATEDBUILDTASK': 'True', 'DISTRIBUTEDTASK_AGENT_FAILDEPRECATEDTASK': 'True', 'DISTRIBUTEDTASK_AGENT_FAILJOBWHENAGENTDIES': 'True', 'DISTRIBUTEDTASK_AGENT_FIXPOSSIBLEGITOUTOFMEMORYPROBLEM': 'False', 'DISTRIBUTEDTASK_AGENT_FORCEUPDATETOLATEST2VERSION': 'False', 'DISTRIBUTEDTASK_AGENT_IGNOREVSTSTASKLIB': 'True', 'DISTRIBUTEDTASK_AGENT_LOGTASKNAMEINUSERAGENT': 'True', 'DISTRIBUTEDTASK_AGENT_LOGTOBLOBSTORAGESERVICE': 'True', 'DISTRIBUTEDTASK_AGENT_MOUNTWORKSPACE': 'True', 'DISTRIBUTEDTASK_AGENT_READONLYVARIABLES': 'True', 'DISTRIBUTEDTASK_AGENT_ROSETTA2WARNING': 'True', 'DISTRIBUTEDTASK_AGENT_USEDOCKERCOMPOSEV2COMPATIBLEMODE': 'False', 'DISTRIBUTEDTASK_AGENT_USEFETCHFILTERINCHECKOUTTASK': 'True', 'DISTRIBUTEDTASK_AGENT_USEGITLONGPATHS': 'True', 'DISTRIBUTEDTASK_AGENT_USELATESTGITVERSION': 'True', 'DISTRIBUTEDTASK_AGENT_USEMSALLIBRARY': 'True', 'DISTRIBUTEDTASK_AGENT_USENEWNODEHANDLERTELEMETRY': 'True', 'DISTRIBUTEDTASK_AGENT_USENODE20TOSTARTCONTAINER': 'True', 'DISTRIBUTEDTASK_AGENT_USEWORKSPACEID': 'True', 'DISTRIBUTEDTASK_TASKS_COPYFILESOVERSSHV0USEQUEUE': 'True', 'DISTRIBUTEDTASK_TASKS_NODE_SKIPDEBUGLOGSWHENDEBUGMODEOFF': 'True', 'DISTRIBUTEDTASK_TASKS_RETIREAZURERMPOWERSHELLMODULE': 'True', 'DOTNET_MULTILEVEL_LOOKUP': '0', 'DOTNET_NOLOGO': '1', 'DOTNET_SKIP_FIRST_TIME_EXPERIENCE': '1', 'DRIVERDATA': 'C:\\\\Windows\\\\System32\\\\Drivers\\\\DriverData', 'ENABLE_ISSUE_SOURCE_VALIDATION': 'true', 'EXEPATH': 'C:\\\\Program Files\\\\Git\\\\bin', 'EDGEWEBDRIVER': 'C:\\\\SeleniumWebDrivers\\\\EdgeDriver', 'FAIL_DEPRECATED_BUILD_TASK': 'true', 'FAIL_DEPRECATED_TASK': 'true', 'FAIL_JOB_WHEN_AGENT_DIES': 'true', 'GCM_INTERACTIVE': 'Never', 'GHCUP_INSTALL_BASE_PREFIX': 'C:\\\\', 'GHCUP_MSYS2': 'C:\\\\msys64', 'GIT_TERMINAL_PROMPT': '0', 'GOROOT_1_20_X64': 'C:\\\\hostedtoolcache\\\\windows\\\\go\\\\1.20.14\\\\x64', 'GOROOT_1_21_X64': 'C:\\\\hostedtoolcache\\\\windows\\\\go\\\\1.21.13\\\\x64', 'GOROOT_1_22_X64': 'C:\\\\hostedtoolcache\\\\windows\\\\go\\\\1.22.10\\\\x64', 'GOROOT_1_23_X64': 'C:\\\\hostedtoolcache\\\\windows\\\\go\\\\1.23.4\\\\x64', 'GRADLE_HOME': 'C:\\\\ProgramData\\\\chocolatey\\\\lib\\\\gradle\\\\tools\\\\gradle-8.12', 'GECKOWEBDRIVER': 'C:\\\\SeleniumWebDrivers\\\\GeckoDriver', 'HOME': 'C:\\\\Users\\\\VssAdministrator', 'HOMEDRIVE': 'C:', 'HOMEPATH': '\\\\Users\\\\VssAdministrator', 'HOSTNAME': 'fv-az618-395', 'IEWEBDRIVER': 'C:\\\\SeleniumWebDrivers\\\\IEDriver', 'IMAGENAME': 'windows-latest', 'INFOPATH': 'C:\\\\Program Files\\\\Git\\\\mingw64\\\\local\\\\info;C:\\\\Program Files\\\\Git\\\\mingw64\\\\share\\\\info;C:\\\\Program Files\\\\Git\\\\usr\\\\local\\\\info;C:\\\\Program Files\\\\Git\\\\usr\\\\share\\\\info;C:\\\\Program Files\\\\Git\\\\usr\\\\info;C:\\\\Program Files\\\\Git\\\\share\\\\info', 'IMAGEOS': 'win22', 'IMAGEVERSION': '20250105.1.0', 'JAVA_HOME': 'C:\\\\hostedtoolcache\\\\windows\\\\Java_Temurin-Hotspot_jdk\\\\8.0.432-6\\\\x64', 'JAVA_HOME_11_X64': 'C:\\\\hostedtoolcache\\\\windows\\\\Java_Temurin-Hotspot_jdk\\\\11.0.25-9\\\\x64', 'JAVA_HOME_17_X64': 'C:\\\\hostedtoolcache\\\\windows\\\\Java_Temurin-Hotspot_jdk\\\\17.0.13-11\\\\x64', 'JAVA_HOME_21_X64': 'C:\\\\hostedtoolcache\\\\windows\\\\Java_Temurin-Hotspot_jdk\\\\21.0.5-11.0\\\\x64', 'JAVA_HOME_8_X64': 'C:\\\\hostedtoolcache\\\\windows\\\\Java_Temurin-Hotspot_jdk\\\\8.0.432-6\\\\x64', 'LANG': 'en_US.UTF-8', 'LOCALAPPDATA': 'C:\\\\Users\\\\VssAdministrator\\\\AppData\\\\Local', 'LOGONSERVER': '\\\\\\\\fv-az618-395', 'M2': 'C:\\\\ProgramData\\\\chocolatey\\\\lib\\\\maven\\\\apache-maven-3.8.7\\\\bin', 'M2_REPO': 'C:\\\\ProgramData\\\\m2', 'MANPATH': 'C:\\\\Program Files\\\\Git\\\\mingw64\\\\local\\\\man;C:\\\\Program Files\\\\Git\\\\mingw64\\\\share\\\\man;C:\\\\Program Files\\\\Git\\\\usr\\\\local\\\\man;C:\\\\Program Files\\\\Git\\\\usr\\\\share\\\\man;C:\\\\Program Files\\\\Git\\\\usr\\\\man;C:\\\\Program Files\\\\Git\\\\share\\\\man', 'MAVEN_OPTS': '-Xms256m', 'MINGW_CHOST': 'x86_64-w64-mingw32', 'MINGW_PACKAGE_PREFIX': 'mingw-w64-x86_64', 'MINGW_PREFIX': 'C:/Program Files/Git/mingw64', 'MSDEPLOY_HTTP_USER_AGENT': 'VSTS_116cc368-5c0c-4eb4-bb44-7f3fa5bdce14_build_6_0', 'MSYSTEM': 'MINGW64', 'MSYSTEM_CARCH': 'x86_64', 'MSYSTEM_CHOST': 'x86_64-w64-mingw32', 'MSYSTEM_PREFIX': 'C:/Program Files/Git/mingw64', 'NUMBER_OF_PROCESSORS': '2', 'OLDPWD': 'D:/a/1/s', 'ORIGINAL_PATH': 'C:\\\\Program Files\\\\Git\\\\mingw64\\\\bin;C:\\\\Program Files\\\\Git\\\\usr\\\\bin;C:\\\\Users\\\\VssAdministrator\\\\bin;C:\\\\Users\\\\VssAdministrator\\\\AppData\\\\Roaming\\\\Python\\\\Python39\\\\Scripts;C:\\\\hostedtoolcache\\\\windows\\\\Python\\\\3.9.13\\\\x64\\\\Scripts;C:\\\\hostedtoolcache\\\\windows\\\\Python\\\\3.9.13\\\\x64;C:\\\\agents\\\\3.248.0\\\\externals\\\\git\\\\cmd;C:\\\\agents\\\\3.248.0\\\\externals\\\\git\\\\mingw64\\\\bin;C:\\\\Program Files\\\\MongoDB\\\\Server\\\\5.0\\\\bin;C:\\\\aliyun-cli;C:\\\\vcpkg;C:\\\\Program Files (x86)\\\\NSIS;C:\\\\tools\\\\zstd;C:\\\\Program Files\\\\Mercurial;C:\\\\hostedtoolcache\\\\windows\\\\stack\\\\3.3.1\\\\x64;C:\\\\cabal\\\\bin;C:\\\\ghcup\\\\bin;C:\\\\mingw64\\\\bin;C:\\\\Program Files\\\\dotnet;C:\\\\Program Files\\\\MySQL\\\\MySQL Server 8.0\\\\bin;C:\\\\Program Files\\\\R\\\\R-4.4.2\\\\bin\\\\x64;C:\\\\SeleniumWebDrivers\\\\GeckoDriver;C:\\\\SeleniumWebDrivers\\\\EdgeDriver;C:\\\\SeleniumWebDrivers\\\\ChromeDriver;C:\\\\Program Files (x86)\\\\sbt\\\\bin;C:\\\\Program Files (x86)\\\\GitHub CLI;C:\\\\Program Files\\\\Git\\\\usr\\\\bin;C:\\\\Program Files (x86)\\\\pipx_bin;C:\\\\npm\\\\prefix;C:\\\\hostedtoolcache\\\\windows\\\\go\\\\1.21.13\\\\x64\\\\bin;C:\\\\hostedtoolcache\\\\windows\\\\Python\\\\3.9.13\\\\x64\\\\Scripts;C:\\\\hostedtoolcache\\\\windows\\\\Python\\\\3.9.13\\\\x64;C:\\\\hostedtoolcache\\\\windows\\\\Ruby\\\\3.0.7\\\\x64\\\\bin;C:\\\\Program Files\\\\OpenSSL\\\\bin;C:\\\\tools\\\\kotlinc\\\\bin;C:\\\\hostedtoolcache\\\\windows\\\\Java_Temurin-Hotspot_jdk\\\\8.0.432-6\\\\x64\\\\bin;C:\\\\Program Files\\\\ImageMagick-7.1.1-Q16-HDRI;C:\\\\Program Files\\\\Microsoft SDKs\\\\Azure\\\\CLI2\\\\wbin;C:\\\\ProgramData\\\\kind;C:\\\\ProgramData\\\\Chocolatey\\\\bin;C:\\\\Windows\\\\system32;C:\\\\Windows;C:\\\\Windows\\\\System32\\\\Wbem;C:\\\\Windows\\\\System32\\\\WindowsPowerShell\\\\v1.0;C:\\\\Windows\\\\System32\\\\OpenSSH;C:\\\\Program Files\\\\dotnet;C:\\\\Program Files\\\\PowerShell\\\\7;C:\\\\Program Files\\\\Microsoft\\\\Web Platform Installer;C:\\\\Program Files\\\\TortoiseSVN\\\\bin;C:\\\\Program Files\\\\Microsoft SQL Server\\\\Client SDK\\\\ODBC\\\\170\\\\Tools\\\\Binn;C:\\\\Program Files\\\\Microsoft SQL Server\\\\150\\\\Tools\\\\Binn;C:\\\\Program Files (x86)\\\\Windows Kits\\\\10\\\\Windows Performance Toolkit;C:\\\\Program Files (x86)\\\\WiX Toolset v3.14\\\\bin;C:\\\\Program Files\\\\Microsoft SQL Server\\\\130\\\\DTS\\\\Binn;C:\\\\Program Files\\\\Microsoft SQL Server\\\\140\\\\DTS\\\\Binn;C:\\\\Program Files\\\\Microsoft SQL Server\\\\150\\\\DTS\\\\Binn;C:\\\\Program Files\\\\Microsoft SQL Server\\\\160\\\\DTS\\\\Binn;C:\\\\Strawberry\\\\c\\\\bin;C:\\\\Strawberry\\\\perl\\\\site\\\\bin;C:\\\\Strawberry\\\\perl\\\\bin;C:\\\\ProgramData\\\\chocolatey\\\\lib\\\\pulumi\\\\tools\\\\Pulumi\\\\bin;C:\\\\Program Files\\\\CMake\\\\bin;C:\\\\ProgramData\\\\chocolatey\\\\lib\\\\maven\\\\apache-maven-3.8.7\\\\bin;C:\\\\Program Files\\\\Microsoft Service Fabric\\\\bin\\\\Fabric\\\\Fabric.Code;C:\\\\Program Files\\\\Microsoft SDKs\\\\Service Fabric\\\\Tools\\\\ServiceFabricLocalClusterManager;C:\\\\Program Files\\\\nodejs;C:\\\\Program Files\\\\Git\\\\cmd;C:\\\\Program Files\\\\Git\\\\mingw64\\\\bin;C:\\\\Program Files\\\\Git\\\\usr\\\\bin;C:\\\\Program Files\\\\GitHub CLI;C:\\\\tools\\\\php;C:\\\\Program Files (x86)\\\\sbt\\\\bin;C:\\\\Program Files\\\\Amazon\\\\AWSCLIV2;C:\\\\Program Files\\\\Amazon\\\\SessionManagerPlugin\\\\bin;C:\\\\Program Files\\\\Amazon\\\\AWSSAMCLI\\\\bin;C:\\\\Program Files\\\\Microsoft SQL Server\\\\130\\\\Tools\\\\Binn;C:\\\\Program Files\\\\LLVM\\\\bin;C:\\\\Users\\\\VssAdministrator\\\\.dotnet\\\\tools;C:\\\\Users\\\\VssAdministrator\\\\.cargo\\\\bin;C:\\\\Users\\\\VssAdministrator\\\\AppData\\\\Local\\\\Microsoft\\\\WindowsApps', 'ORIGINAL_TEMP': 'C:/Users/VSSADM~1/AppData/Local/Temp', 'ORIGINAL_TMP': 'C:/Users/VSSADM~1/AppData/Local/Temp', 'OS': 'windows', 'PATH': 'C:\\\\Users\\\\VssAdministrator\\\\bin;C:\\\\Program Files\\\\Git\\\\mingw64\\\\bin;C:\\\\Program Files\\\\Git\\\\usr\\\\local\\\\bin;C:\\\\Program Files\\\\Git\\\\usr\\\\bin;C:\\\\Program Files\\\\Git\\\\usr\\\\bin;C:\\\\Program Files\\\\Git\\\\mingw64\\\\bin;C:\\\\Program Files\\\\Git\\\\usr\\\\bin;C:\\\\Users\\\\VssAdministrator\\\\bin;C:\\\\Users\\\\VssAdministrator\\\\AppData\\\\Roaming\\\\Python\\\\Python39\\\\Scripts;C:\\\\hostedtoolcache\\\\windows\\\\Python\\\\3.9.13\\\\x64\\\\Scripts;C:\\\\hostedtoolcache\\\\windows\\\\Python\\\\3.9.13\\\\x64;C:\\\\agents\\\\3.248.0\\\\externals\\\\git\\\\cmd;C:\\\\agents\\\\3.248.0\\\\externals\\\\git\\\\mingw64\\\\bin;C:\\\\Program Files\\\\MongoDB\\\\Server\\\\5.0\\\\bin;C:\\\\aliyun-cli;C:\\\\vcpkg;C:\\\\Program Files (x86)\\\\NSIS;C:\\\\tools\\\\zstd;C:\\\\Program Files\\\\Mercurial;C:\\\\hostedtoolcache\\\\windows\\\\stack\\\\3.3.1\\\\x64;C:\\\\cabal\\\\bin;C:\\\\ghcup\\\\bin;C:\\\\mingw64\\\\bin;C:\\\\Program Files\\\\dotnet;C:\\\\Program Files\\\\MySQL\\\\MySQL Server 8.0\\\\bin;C:\\\\Program Files\\\\R\\\\R-4.4.2\\\\bin\\\\x64;C:\\\\SeleniumWebDrivers\\\\GeckoDriver;C:\\\\SeleniumWebDrivers\\\\EdgeDriver;C:\\\\SeleniumWebDrivers\\\\ChromeDriver;C:\\\\Program Files (x86)\\\\sbt\\\\bin;C:\\\\Program Files (x86)\\\\GitHub CLI;C:\\\\Program Files\\\\Git\\\\usr\\\\bin;C:\\\\Program Files (x86)\\\\pipx_bin;C:\\\\npm\\\\prefix;C:\\\\hostedtoolcache\\\\windows\\\\go\\\\1.21.13\\\\x64\\\\bin;C:\\\\hostedtoolcache\\\\windows\\\\Python\\\\3.9.13\\\\x64\\\\Scripts;C:\\\\hostedtoolcache\\\\windows\\\\Python\\\\3.9.13\\\\x64;C:\\\\hostedtoolcache\\\\windows\\\\Ruby\\\\3.0.7\\\\x64\\\\bin;C:\\\\Program Files\\\\OpenSSL\\\\bin;C:\\\\tools\\\\kotlinc\\\\bin;C:\\\\hostedtoolcache\\\\windows\\\\Java_Temurin-Hotspot_jdk\\\\8.0.432-6\\\\x64\\\\bin;C:\\\\Program Files\\\\ImageMagick-7.1.1-Q16-HDRI;C:\\\\Program Files\\\\Microsoft SDKs\\\\Azure\\\\CLI2\\\\wbin;C:\\\\ProgramData\\\\kind;C:\\\\ProgramData\\\\Chocolatey\\\\bin;C:\\\\Windows\\\\system32;C:\\\\Windows;C:\\\\Windows\\\\System32\\\\Wbem;C:\\\\Windows\\\\System32\\\\WindowsPowerShell\\\\v1.0;C:\\\\Windows\\\\System32\\\\OpenSSH;C:\\\\Program Files\\\\dotnet;C:\\\\Program Files\\\\PowerShell\\\\7;C:\\\\Program Files\\\\Microsoft\\\\Web Platform Installer;C:\\\\Program Files\\\\TortoiseSVN\\\\bin;C:\\\\Program Files\\\\Microsoft SQL Server\\\\Client SDK\\\\ODBC\\\\170\\\\Tools\\\\Binn;C:\\\\Program Files\\\\Microsoft SQL Server\\\\150\\\\Tools\\\\Binn;C:\\\\Program Files (x86)\\\\Windows Kits\\\\10\\\\Windows Performance Toolkit;C:\\\\Program Files (x86)\\\\WiX Toolset v3.14\\\\bin;C:\\\\Program Files\\\\Microsoft SQL Server\\\\130\\\\DTS\\\\Binn;C:\\\\Program Files\\\\Microsoft SQL Server\\\\140\\\\DTS\\\\Binn;C:\\\\Program Files\\\\Microsoft SQL Server\\\\150\\\\DTS\\\\Binn;C:\\\\Program Files\\\\Microsoft SQL Server\\\\160\\\\DTS\\\\Binn;C:\\\\Strawberry\\\\c\\\\bin;C:\\\\Strawberry\\\\perl\\\\site\\\\bin;C:\\\\Strawberry\\\\perl\\\\bin;C:\\\\ProgramData\\\\chocolatey\\\\lib\\\\pulumi\\\\tools\\\\Pulumi\\\\bin;C:\\\\Program Files\\\\CMake\\\\bin;C:\\\\ProgramData\\\\chocolatey\\\\lib\\\\maven\\\\apache-maven-3.8.7\\\\bin;C:\\\\Program Files\\\\Microsoft Service Fabric\\\\bin\\\\Fabric\\\\Fabric.Code;C:\\\\Program Files\\\\Microsoft SDKs\\\\Service Fabric\\\\Tools\\\\ServiceFabricLocalClusterManager;C:\\\\Program Files\\\\nodejs;C:\\\\Program Files\\\\Git\\\\cmd;C:\\\\Program Files\\\\Git\\\\mingw64\\\\bin;C:\\\\Program Files\\\\Git\\\\usr\\\\bin;C:\\\\Program Files\\\\GitHub CLI;C:\\\\tools\\\\php;C:\\\\Program Files (x86)\\\\sbt\\\\bin;C:\\\\Program Files\\\\Amazon\\\\AWSCLIV2;C:\\\\Program Files\\\\Amazon\\\\SessionManagerPlugin\\\\bin;C:\\\\Program Files\\\\Amazon\\\\AWSSAMCLI\\\\bin;C:\\\\Program Files\\\\Microsoft SQL Server\\\\130\\\\Tools\\\\Binn;C:\\\\Program Files\\\\LLVM\\\\bin;C:\\\\Users\\\\VssAdministrator\\\\.dotnet\\\\tools;C:\\\\Users\\\\VssAdministrator\\\\.cargo\\\\bin;C:\\\\Users\\\\VssAdministrator\\\\AppData\\\\Local\\\\Microsoft\\\\WindowsApps;C:\\\\Program Files\\\\Git\\\\usr\\\\bin\\\\vendor_perl;C:\\\\Program Files\\\\Git\\\\usr\\\\bin\\\\core_perl', 'PATHEXT': '.COM;.EXE;.BAT;.CMD;.VBS;.VBE;.JS;.JSE;.WSF;.WSH;.MSC;.CPL', 'PGBIN': 'C:\\\\Program Files\\\\PostgreSQL\\\\14\\\\bin', 'PGDATA': 'C:\\\\Program Files\\\\PostgreSQL\\\\14\\\\data', 'PGPASSWORD': 'root', 'PGROOT': 'C:\\\\Program Files\\\\PostgreSQL\\\\14', 'PGUSER': 'postgres', 'PHPROOT': 'c:\\\\tools\\\\php', 'PIPELINE_REPOSITORY_NAME': 'explosion/cython-blis', 'PIPELINE_WORKSPACE': 'D:\\\\a\\\\1', 'PIPX_BIN_DIR': 'C:\\\\Program Files (x86)\\\\pipx_bin', 'PIPX_HOME': 'C:\\\\Program Files (x86)\\\\pipx', 'PKG_CONFIG_PATH': 'C:\\\\Program Files\\\\Git\\\\mingw64\\\\lib\\\\pkgconfig;C:\\\\Program Files\\\\Git\\\\mingw64\\\\share\\\\pkgconfig', 'PKG_CONFIG_SYSTEM_INCLUDE_PATH': 'C:/Program Files/Git/mingw64/include', 'PKG_CONFIG_SYSTEM_LIBRARY_PATH': 'C:/Program Files/Git/mingw64/lib', 'PLINK_PROTOCOL': 'ssh', 'POWERSHELL_DISTRIBUTION_CHANNEL': 'Azure-DevOps-win22', 'POWERSHELL_UPDATECHECK': 'Off', 'PROCESSOR_ARCHITECTURE': 'AMD64', 'PROCESSOR_IDENTIFIER': 'Intel64 Family 6 Model 79 Stepping 1, GenuineIntel', 'PROCESSOR_LEVEL': '6', 'PROCESSOR_REVISION': '4f01', 'PROGRAMFILES': 'C:\\\\Program Files', 'PROMPT': '$P$G', 'PSEXECUTIONPOLICYPREFERENCE': 'Unrestricted', 'PSMODULEANALYSISCACHEPATH': 'C:\\\\PSModuleAnalysisCachePath\\\\ModuleAnalysisCache', 'PSMODULEPATH': 'C:\\\\Users\\\\VssAdministrator\\\\Documents\\\\WindowsPowerShell\\\\Modules;C:\\\\\\\\Modules\\\\azurerm_2.1.0;C:\\\\\\\\Modules\\\\azure_2.1.0;C:\\\\Users\\\\packer\\\\Documents\\\\WindowsPowerShell\\\\Modules;C:\\\\Program Files\\\\WindowsPowerShell\\\\Modules;C:\\\\Windows\\\\system32\\\\WindowsPowerShell\\\\v1.0\\\\Modules;C:\\\\Program Files\\\\Microsoft SQL Server\\\\130\\\\Tools\\\\PowerShell\\\\Modules\\\\', 'PUBLIC': 'C:\\\\Users\\\\Public', 'PWD': 'D:/a/1/s/flame-blis', 'PYTHON_VERSION': '3.9', 'PROGRAMDATA': 'C:\\\\ProgramData', 'PROGRAMFILES(X86)': 'C:\\\\Program Files (x86)', 'PROGRAMW6432': 'C:\\\\Program Files', 'RESOURCES_TRIGGERINGALIAS': '', 'RESOURCES_TRIGGERINGCATEGORY': '', 'RETIRE_AZURERM_POWERSHELL_MODULE': 'true', 'ROSETTA2_WARNING': 'true', 'RTOOLS44_HOME': 'C:\\\\rtools44', 'RUNNER_TOOLSDIRECTORY': 'C:\\\\hostedtoolcache\\\\windows', 'RUNNER_TOOL_CACHE': 'C:\\\\hostedtoolcache\\\\windows', 'SBT_HOME': 'C:\\\\Program Files (x86)\\\\sbt\\\\', 'SELENIUM_JAR_PATH': 'C:\\\\selenium\\\\selenium-server.jar', 'SHELL': 'C:\\\\Program Files\\\\Git\\\\usr\\\\bin\\\\bash.exe', 'SHLVL': '1', 'SSH_ASKPASS': 'C:/Program Files/Git/mingw64/bin/git-askpass.exe', 'STATS_BLT': 'true', 'STATS_D': 'true', 'STATS_D_D': 'true', 'STATS_D_TC': 'true', 'STATS_EXT': 'true', 'STATS_EXTP': 'https://provjobdprod.z13.web.core.windows.net/settings/provjobdsettings-latest/provjobd.data', 'STATS_PIP': 'false', 'STATS_RDCL': 'true', 'STATS_TRP': 'true', 'STATS_UE': 'true', 'STATS_V3PS': 'true', 'STATS_VMD': 'true', 'STATS_VMFE': 'true', 'SYSTEM': 'build', 'SYSTEMDRIVE': 'C:', 'SYSTEMROOT': 'C:\\\\Windows', 'SYSTEM_ARTIFACTSDIRECTORY': 'D:\\\\a\\\\1\\\\a', 'SYSTEM_COLLECTIONID': '116cc368-5c0c-4eb4-bb44-7f3fa5bdce14', 'SYSTEM_COLLECTIONURI': 'https://dev.azure.com/explosion-ai/', 'SYSTEM_CULTURE': 'en-US', 'SYSTEM_DEBUG': 'false', 'SYSTEM_DEFAULTWORKINGDIRECTORY': 'D:\\\\a\\\\1\\\\s', 'SYSTEM_DEFINITIONID': '6', 'SYSTEM_DEFINITIONNAME': 'explosion.cython-blis', 'SYSTEM_ENABLEACCESSTOKEN': 'SecretVariable', 'SYSTEM_HOSTTYPE': 'build', 'SYSTEM_ISAZUREVM': '1', 'SYSTEM_ISDOCKERCONTAINER': '0', 'SYSTEM_ISSCHEDULED': 'False', 'SYSTEM_JOBATTEMPT': '1', 'SYSTEM_JOBDISPLAYNAME': 'JSONL Python39Windows', 'SYSTEM_JOBID': 'b59b5e76-e04f-54cc-443e-737e71f5428d', 'SYSTEM_JOBIDENTIFIER': 'JSONL.Python39Windows', 'SYSTEM_JOBNAME': 'Python39Windows', 'SYSTEM_JOBPARALLELISMTAG': 'Public', 'SYSTEM_JOBPOSITIONINPHASE': '2', 'SYSTEM_JOBTIMEOUT': '60', 'SYSTEM_OIDCREQUESTURI': 'https://dev.azure.com/explosion-ai/5c6613e9-6ccf-48bd-81de-dbc3b0a6f957/_apis/distributedtask/hubs/build/plans/5471f6a2-5d2d-4ea1-bf2f-6682941b17de/jobs/b59b5e76-e04f-54cc-443e-737e71f5428d/oidctoken', 'SYSTEM_PARALLELEXECUTIONTYPE': 'MultiConfiguration', 'SYSTEM_PHASEATTEMPT': '1', 'SYSTEM_PHASEDISPLAYNAME': 'JSONL', 'SYSTEM_PHASEID': 'ecb95708-c2a5-5456-f379-96cd8090c2a6', 'SYSTEM_PHASENAME': 'JSONL', 'SYSTEM_PIPELINESTARTTIME': '2025-01-10 17:44:05+00:00', 'SYSTEM_PLANID': '5471f6a2-5d2d-4ea1-bf2f-6682941b17de', 'SYSTEM_POSTLINESSPEED': '10000', 'SYSTEM_PULLREQUEST_ISFORK': 'False', 'SYSTEM_SERVERTYPE': 'Hosted', 'SYSTEM_STAGEATTEMPT': '1', 'SYSTEM_STAGEDISPLAYNAME': '__default', 'SYSTEM_STAGEID': '96ac2280-8cb4-5df5-99de-dd2da759617d', 'SYSTEM_STAGENAME': '__default', 'SYSTEM_TASKDEFINITIONSURI': 'https://dev.azure.com/explosion-ai/', 'SYSTEM_TASKDISPLAYNAME': 'Generate JSONL (Windows)', 'SYSTEM_TASKINSTANCEID': 'd4997dda-70a7-5ff3-3edd-fa7524db0f8f', 'SYSTEM_TASKINSTANCENAME': 'CmdLine5', 'SYSTEM_TEAMFOUNDATIONCOLLECTIONURI': 'https://dev.azure.com/explosion-ai/', 'SYSTEM_TEAMFOUNDATIONSERVERURI': 'https://dev.azure.com/explosion-ai/', 'SYSTEM_TEAMPROJECT': 'Public', 'SYSTEM_TEAMPROJECTID': '5c6613e9-6ccf-48bd-81de-dbc3b0a6f957', 'SYSTEM_TIMELINEID': '5471f6a2-5d2d-4ea1-bf2f-6682941b17de', 'SYSTEM_TOTALJOBSINPHASE': '3', 'SYSTEM_WORKFOLDER': 'D:\\\\a', 'TASK_DISPLAYNAME': 'Generate JSONL (Windows)', 'TASK_PUBLISHTELEMETRY': 'True', 'TASK_SKIPTRANSLATORFORCHECKOUT': 'False', 'TEMP': 'C:\\\\Users\\\\VSSADM~1\\\\AppData\\\\Local\\\\Temp', 'TERM': 'xterm-256color', 'TF_BUILD': 'True', 'TMP': 'C:\\\\Users\\\\VSSADM~1\\\\AppData\\\\Local\\\\Temp', 'TMPDIR': 'C:\\\\Users\\\\VSSADM~1\\\\AppData\\\\Local\\\\Temp', 'USEPYTHONVERSION_PYTHONLOCATION': 'C:\\\\hostedtoolcache\\\\windows\\\\Python\\\\3.9.13\\\\x64', 'USERDOMAIN': 'fv-az618-395', 'USERDOMAIN_ROAMINGPROFILE': 'fv-az618-395', 'USERNAME': 'VssAdministrator', 'USERPROFILE': 'C:\\\\Users\\\\VssAdministrator', 'USE_GIT_LONG_PATHS': 'true', 'USE_LATEST_GIT_VERSION': 'true', 'USE_MSAL': 'true', 'USE_MSDEPLOY_TOKEN_AUTH': 'true', 'VCPKG_INSTALLATION_ROOT': 'C:\\\\vcpkg', 'VSTSAGENT_CONTINUE_AFTER_CANCEL_PROCESSTREEKILL_ATTEMPT': 'true', 'VSTSAGENT_DOCKER_ACTION_RETRIES': 'true', 'VSTS_AGENT_PERFLOG': 'c:\\\\vsts\\\\perflog', 'VSTS_PROCESS_LOOKUP_ID': 'vsts_1a8accd9-c4cc-417c-b11d-eed7c6b9f10a', 'WINDIR': 'C:\\\\Windows', 'WIX': 'C:\\\\Program Files (x86)\\\\WiX Toolset v3.14\\\\', '_': 'C:/hostedtoolcache/windows/Python/3.9.13/x64/python', 'AGENT.JOBSTATUS': 'Succeeded', 'NPM_CONFIG_PREFIX': 'C:\\\\npm\\\\prefix'}\n",
      "  [COMMAND] C:\\Program Files\\LLVM\\bin\\clang.exe -c C:\\Users\\btulu\\AppData\\Local\\Temp\\pip-install-31fwat_f\\blis_127bc4ed69414c77925d93596f1bf69d\\blis\\_src\\config\\bulldozer\\bli_cntx_init_bulldozer.c -o C:\\Users\\btulu\\AppData\\Local\\Temp\\tmp3ixxi63d\\bli_cntx_init_bulldozer.o -O3 -std=c99 -D_POSIX_C_SOURCE=200112L -DBLIS_VERSION_STRING=\"0.7.0\" -DBLIS_IS_BUILDING_LIBRARY -Iinclude\\windows-x86_64 -I.\\frame\\3\\ -I.\\frame\\ind\\ukernels\\ -I.\\frame\\3\\ -I.\\frame\\1m\\ -I.\\frame\\1f\\ -I.\\frame\\1\\ -I.\\frame\\include -IC:\\Users\\btulu\\AppData\\Local\\Temp\\pip-install-31fwat_f\\blis_127bc4ed69414c77925d93596f1bf69d\\blis\\_src\\include\\windows-x86_64\n",
      "  error: [WinError 2] The system cannot find the file specified\n",
      "  [end of output]\n",
      "  \n",
      "  note: This error originates from a subprocess, and is likely not a problem with pip.\n",
      "  ERROR: Failed building wheel for blis\n",
      "ERROR: Could not build wheels for blis, which is required to install pyproject.toml-based projects\n"
     ]
    }
   ],
   "source": [
    "!pip install spacy nltk gensim scikit-learn"
   ]
  },
  {
   "cell_type": "code",
   "execution_count": 11,
   "id": "cf7dff03",
   "metadata": {},
   "outputs": [
    {
     "ename": "SyntaxError",
     "evalue": "invalid syntax (581980377.py, line 1)",
     "output_type": "error",
     "traceback": [
      "\u001b[1;36m  File \u001b[1;32m\"C:\\Users\\btulu\\AppData\\Local\\Temp\\ipykernel_23212\\581980377.py\"\u001b[1;36m, line \u001b[1;32m1\u001b[0m\n\u001b[1;33m    python -m spacy download en_core_web_sm\u001b[0m\n\u001b[1;37m              ^\u001b[0m\n\u001b[1;31mSyntaxError\u001b[0m\u001b[1;31m:\u001b[0m invalid syntax\n"
     ]
    }
   ],
   "source": [
    "python -m spacy download en_core_web_sm"
   ]
  },
  {
   "cell_type": "code",
   "execution_count": 15,
   "id": "73d80dbb",
   "metadata": {},
   "outputs": [
    {
     "name": "stderr",
     "output_type": "stream",
     "text": [
      "'spacy' is not recognized as an internal or external command,\n",
      "operable program or batch file.\n"
     ]
    }
   ],
   "source": [
    "!spacy download en_core_web_sm"
   ]
  },
  {
   "cell_type": "code",
   "execution_count": null,
   "id": "a1ca179e",
   "metadata": {},
   "outputs": [],
   "source": []
  }
 ],
 "metadata": {
  "kernelspec": {
   "display_name": "Python 3 (ipykernel)",
   "language": "python",
   "name": "python3"
  },
  "language_info": {
   "codemirror_mode": {
    "name": "ipython",
    "version": 3
   },
   "file_extension": ".py",
   "mimetype": "text/x-python",
   "name": "python",
   "nbconvert_exporter": "python",
   "pygments_lexer": "ipython3",
   "version": "3.9.18"
  }
 },
 "nbformat": 4,
 "nbformat_minor": 5
}
